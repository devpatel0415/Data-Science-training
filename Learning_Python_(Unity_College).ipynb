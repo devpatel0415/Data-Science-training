{
  "nbformat": 4,
  "nbformat_minor": 0,
  "metadata": {
    "colab": {
      "provenance": [],
      "authorship_tag": "ABX9TyPD9ISSEUl1edqcuxQuR9V2",
      "include_colab_link": true
    },
    "kernelspec": {
      "name": "python3",
      "display_name": "Python 3"
    },
    "language_info": {
      "name": "python"
    }
  },
  "cells": [
    {
      "cell_type": "markdown",
      "metadata": {
        "id": "view-in-github",
        "colab_type": "text"
      },
      "source": [
        "<a href=\"https://colab.research.google.com/github/devpatel0415/Data-Science-training/blob/main/Learning_Python_(Unity_College).ipynb\" target=\"_parent\"><img src=\"https://colab.research.google.com/assets/colab-badge.svg\" alt=\"Open In Colab\"/></a>"
      ]
    },
    {
      "cell_type": "code",
      "execution_count": 3,
      "metadata": {
        "colab": {
          "base_uri": "https://localhost:8080/"
        },
        "id": "YYlf3LVR7Bhf",
        "outputId": "45f16ca6-f24f-494a-ff7d-5715518faa91"
      },
      "outputs": [
        {
          "output_type": "stream",
          "name": "stdout",
          "text": [
            "Enter a month number from 1 to 12: 9\n",
            "The month is September\n"
          ]
        }
      ],
      "source": [
        "Months = [\"January\", \"February\", \"March\",\"April\", \"May\", \"June\", \"July\", \"August\", \"September\", \"October\", \"November\", \"December\"]\n",
        "n = int(input(\"Enter a month number from 1 to 12: \"))\n",
        "print(\"The month is\", Months[n-1] )\n"
      ]
    }
  ]
}