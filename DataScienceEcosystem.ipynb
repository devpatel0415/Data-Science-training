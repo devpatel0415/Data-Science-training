{
 "cells": [
  {
   "cell_type": "markdown",
   "id": "312f5d74-7cda-41a0-8bfc-475a5585f4ab",
   "metadata": {},
   "source": [
    "# Data Science Tools and Ecosystem"
   ]
  },
  {
   "cell_type": "markdown",
   "id": "81f9f820-db08-43c7-b064-6f7ff6cc3c9c",
   "metadata": {},
   "source": [
    "In this notebook, Data Science tools and ecosystems are summarized"
   ]
  },
  {
   "cell_type": "markdown",
   "id": "52dcb58b-aba0-4229-8b93-29691ca12fe4",
   "metadata": {},
   "source": [
    "**Objectives**\n",
    "+ Explore Data Science Tools\n",
    "+ Learn about libraries used in data science\n",
    "+ Learn about the programming languages in Data Science\n",
    "+ Data management\n",
    "+ Data Visualization\n",
    "\n"
   ]
  },
  {
   "cell_type": "markdown",
   "id": "e72cde5e-3179-49e0-bcd1-636a1ec4a7c0",
   "metadata": {},
   "source": [
    "Some of the popular languages that Data Scientists use are:"
   ]
  },
  {
   "cell_type": "markdown",
   "id": "6287fcad-0300-491d-a654-a67d6059e951",
   "metadata": {},
   "source": [
    "1. Python\n",
    "2. Julia\n",
    "3. R\n",
    "4. Git"
   ]
  },
  {
   "cell_type": "markdown",
   "id": "c833333e-7dab-475a-adbc-00d23017ce68",
   "metadata": {},
   "source": [
    "some commonly used libraries for data science are\n",
    "1. NumPy\n",
    "2. SciPy\n",
    "3. Matplotlib\n",
    "4. Scikit-learn"
   ]
  },
  {
   "cell_type": "markdown",
   "id": "f03adf40-d5bc-47ea-8771-b9125bf9cc51",
   "metadata": {},
   "source": [
    "|#|Data Science Tools|\n",
    "|--|-----------------|\n",
    "|1|MySQL|\n",
    "|2|Mongo DB|\n",
    "|3|Apache CouchBD|\n",
    "|4|Apache Cassandra|"
   ]
  },
  {
   "cell_type": "markdown",
   "id": "3c40a611-28e7-40f1-802b-6cf33728a60c",
   "metadata": {},
   "source": [
    "### Below are a few examples of evaluating arithmetic expressions in Python"
   ]
  },
  {
   "cell_type": "code",
   "execution_count": 2,
   "id": "0e604ee0-51c5-4d71-b703-91a2da68353b",
   "metadata": {},
   "outputs": [],
   "source": [
    "# this is a simple arithemetic code to first multiply and then add numbers"
   ]
  },
  {
   "cell_type": "code",
   "execution_count": 3,
   "id": "0bca739f-ede8-497a-9e4c-786610955fa2",
   "metadata": {},
   "outputs": [
    {
     "data": {
      "text/plain": [
       "42"
      ]
     },
     "execution_count": 3,
     "metadata": {},
     "output_type": "execute_result"
    }
   ],
   "source": [
    "(5*7)+7"
   ]
  },
  {
   "cell_type": "code",
   "execution_count": 1,
   "id": "63d50c80-d2ee-4a7e-8d08-12fa8c36de2c",
   "metadata": {},
   "outputs": [],
   "source": [
    "#code to convert 200 minutes into hours"
   ]
  },
  {
   "cell_type": "code",
   "execution_count": 5,
   "id": "b7ae3275-9d8e-4f57-a82c-2f4946eb480c",
   "metadata": {},
   "outputs": [],
   "source": [
    "# 1hour=60 minutes. let 'H' be the variable for the final answer in hours and let 'h' be the minutes to convert. \n",
    "# for this exercise, h is 200\n"
   ]
  },
  {
   "cell_type": "code",
   "execution_count": 6,
   "id": "1a1da8ba-5f13-4e4d-b182-179dd815f84f",
   "metadata": {},
   "outputs": [
    {
     "name": "stdout",
     "output_type": "stream",
     "text": [
      "3.3333333333333335\n"
     ]
    }
   ],
   "source": [
    "h=200\n",
    "H=h/60\n",
    "print(H)\n"
   ]
  },
  {
   "cell_type": "markdown",
   "id": "ceae1404-8d7a-420b-8da9-fc16753057c2",
   "metadata": {},
   "source": [
    "## Author\n",
    "Dev Patel"
   ]
  },
  {
   "cell_type": "code",
   "execution_count": null,
   "id": "42b06f85-3886-4d0b-bab4-5a3b452f9402",
   "metadata": {},
   "outputs": [],
   "source": []
  }
 ],
 "metadata": {
  "kernelspec": {
   "display_name": "Python 3 (ipykernel)",
   "language": "python",
   "name": "python3"
  },
  "language_info": {
   "codemirror_mode": {
    "name": "ipython",
    "version": 3
   },
   "file_extension": ".py",
   "mimetype": "text/x-python",
   "name": "python",
   "nbconvert_exporter": "python",
   "pygments_lexer": "ipython3",
   "version": "3.12.4"
  }
 },
 "nbformat": 4,
 "nbformat_minor": 5
}
